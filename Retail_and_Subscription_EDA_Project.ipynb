{
  "nbformat": 4,
  "nbformat_minor": 0,
  "metadata": {
    "colab": {
      "private_outputs": true,
      "provenance": []
    },
    "kernelspec": {
      "name": "python3",
      "display_name": "Python 3"
    },
    "language_info": {
      "name": "python"
    }
  },
  "cells": [
    {
      "cell_type": "code",
      "source": [
        "#import Python libraries!\n",
        "import pandas as pd\n",
        "import numpy as np\n",
        "import matplotlib.pyplot as plt\n",
        "import seaborn as sns"
      ],
      "metadata": {
        "id": "gCcxj3a_pvYR"
      },
      "execution_count": null,
      "outputs": []
    },
    {
      "cell_type": "code",
      "source": [
        "# Load datasets!\n",
        "retail_df = pd.read_csv(\"retail_data.csv\")\n",
        "subscription_df = pd.read_csv(\"subscription_data.csv\")"
      ],
      "metadata": {
        "id": "pPlE5skqpvbb"
      },
      "execution_count": null,
      "outputs": []
    },
    {
      "cell_type": "code",
      "source": [
        "#View Data set!\n",
        "retail_df.head()"
      ],
      "metadata": {
        "id": "YVUgg4v3qJbT"
      },
      "execution_count": null,
      "outputs": []
    },
    {
      "cell_type": "code",
      "source": [
        "subscription_df.head()"
      ],
      "metadata": {
        "id": "K1PkxJSwqOwX"
      },
      "execution_count": null,
      "outputs": []
    },
    {
      "cell_type": "code",
      "source": [
        "# Basic Information!\n",
        "print(\"Retail Data Info:\")\n",
        "print(retail_df.info())"
      ],
      "metadata": {
        "id": "PpVfQ2WhpvoW"
      },
      "execution_count": null,
      "outputs": []
    },
    {
      "cell_type": "code",
      "source": [
        "print(\"\\nSubscription Data Info:\")\n",
        "print(subscription_df.info())"
      ],
      "metadata": {
        "id": "5AlvM3Hcpvu0"
      },
      "execution_count": null,
      "outputs": []
    },
    {
      "cell_type": "code",
      "source": [
        "# Step 1: Summary Statistics!\n",
        "print(\"\\nRetail Data Summary:\")\n",
        "print(retail_df.describe())"
      ],
      "metadata": {
        "id": "9B6easLwpvyK"
      },
      "execution_count": null,
      "outputs": []
    },
    {
      "cell_type": "code",
      "source": [
        "print(\"\\nSubscription Data Summary:\")\n",
        "print(subscription_df.describe())"
      ],
      "metadata": {
        "id": "-f56ZoMhpv1a"
      },
      "execution_count": null,
      "outputs": []
    },
    {
      "cell_type": "code",
      "source": [
        "# Step 2: Boxplot Analysis!\n",
        "plt.figure(figsize=(12, 6))\n",
        "sns.boxplot(data=retail_df[['Revenue', 'Expenses', 'Profit']])\n",
        "plt.title(\"Retail Store Revenue, Expenses, and Profit Distribution\")\n",
        "plt.show()"
      ],
      "metadata": {
        "id": "8TwTdm70pv4c"
      },
      "execution_count": null,
      "outputs": []
    },
    {
      "cell_type": "code",
      "source": [
        "plt.figure(figsize=(12, 6))\n",
        "sns.boxplot(data=subscription_df[['Revenue', 'Expenses', 'Profit']])\n",
        "plt.title(\"Subscription Business Revenue, Expenses, and Profit Distribution\")\n",
        "plt.show()"
      ],
      "metadata": {
        "id": "-CiMl3M6pv75"
      },
      "execution_count": null,
      "outputs": []
    },
    {
      "cell_type": "code",
      "source": [
        "# Step 3: Correlation Heatmap!\n",
        "plt.figure(figsize=(6, 4))\n",
        "sns.heatmap(retail_df[['Revenue', 'Expenses', 'Profit']].corr(), annot=True, cmap='coolwarm', fmt='.2f')\n",
        "plt.title(\"Retail Data Correlation Heatmap\")\n",
        "plt.show()"
      ],
      "metadata": {
        "id": "Obc5x-XFpv_l"
      },
      "execution_count": null,
      "outputs": []
    },
    {
      "cell_type": "code",
      "source": [
        "plt.figure(figsize=(6, 4))\n",
        "sns.heatmap(subscription_df[['Revenue', 'Expenses', 'Profit']].corr(), annot=True, cmap='coolwarm', fmt='.2f')\n",
        "plt.title(\"Subscription Data Correlation Heatmap\")\n",
        "plt.show()"
      ],
      "metadata": {
        "id": "6z3wMn2mpwDB"
      },
      "execution_count": null,
      "outputs": []
    },
    {
      "cell_type": "code",
      "source": [
        "# Step 4: Pairplot!\n",
        "sns.pairplot(retail_df[['Revenue', 'Expenses', 'Profit']])\n",
        "plt.suptitle(\"Retail Data Pairplot\", y=1.02)\n",
        "plt.show()"
      ],
      "metadata": {
        "id": "yJTJ6q6jpwGR"
      },
      "execution_count": null,
      "outputs": []
    },
    {
      "cell_type": "code",
      "source": [
        "sns.pairplot(subscription_df[['Revenue', 'Expenses', 'Profit']])\n",
        "plt.suptitle(\"Subscription Data Pairplot\", y=1.02)\n",
        "plt.show()"
      ],
      "metadata": {
        "id": "CzN2iWP9pwJh"
      },
      "execution_count": null,
      "outputs": []
    },
    {
      "cell_type": "code",
      "source": [
        "# Step 5: Histogram Analysis!\n",
        "plt.figure(figsize=(12, 5))\n",
        "retail_df[['Revenue', 'Expenses', 'Profit']].hist(bins=30, figsize=(12, 5))\n",
        "plt.suptitle(\"Retail Data Distribution\")\n",
        "plt.show()"
      ],
      "metadata": {
        "id": "ghJXE2rKpwMx"
      },
      "execution_count": null,
      "outputs": []
    },
    {
      "cell_type": "code",
      "source": [
        "plt.figure(figsize=(12, 5))\n",
        "subscription_df[['Revenue', 'Expenses', 'Profit']].hist(bins=30, figsize=(12, 5))\n",
        "plt.suptitle(\"Subscription Data Distribution\")\n",
        "plt.show()"
      ],
      "metadata": {
        "id": "NcYQrPIFpwQu"
      },
      "execution_count": null,
      "outputs": []
    },
    {
      "cell_type": "code",
      "source": [
        "# Step 6: Correlation Values!\n",
        "print(\"\\nRetail Data Correlation Matrix:\")\n",
        "print(retail_df[['Revenue', 'Expenses', 'Profit']].corr())"
      ],
      "metadata": {
        "id": "b9ptRB3NpwUX"
      },
      "execution_count": null,
      "outputs": []
    },
    {
      "cell_type": "code",
      "source": [
        "print(\"\\nSubscription Data Correlation Matrix:\")\n",
        "print(subscription_df[['Revenue', 'Expenses', 'Profit']].corr())"
      ],
      "metadata": {
        "id": "U4wXaWbjpwXq"
      },
      "execution_count": null,
      "outputs": []
    }
  ]
}